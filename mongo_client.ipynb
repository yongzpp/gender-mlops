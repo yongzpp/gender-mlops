{
 "cells": [
  {
   "cell_type": "code",
   "execution_count": 1,
   "id": "8b1806bd",
   "metadata": {},
   "outputs": [],
   "source": [
    "import pymongo"
   ]
  },
  {
   "cell_type": "code",
   "execution_count": 16,
   "id": "e6ce46f4",
   "metadata": {},
   "outputs": [],
   "source": [
    "mongo_client = pymongo.MongoClient(\"mongodb://127.0.0.1:27017\")\n",
    "db = mongo_client.get_database(\"prediction_service\")\n",
    "collection = db.get_collection(\"report\")"
   ]
  },
  {
   "cell_type": "code",
   "execution_count": 17,
   "id": "9df7ae93",
   "metadata": {},
   "outputs": [],
   "source": [
    "data = list(collection.find())"
   ]
  },
  {
   "cell_type": "code",
   "execution_count": 18,
   "id": "614616de",
   "metadata": {},
   "outputs": [
    {
     "data": {
      "text/plain": [
       "1"
      ]
     },
     "execution_count": 18,
     "metadata": {},
     "output_type": "execute_result"
    }
   ],
   "source": [
    "len(data)"
   ]
  },
  {
   "cell_type": "code",
   "execution_count": 22,
   "id": "51558993",
   "metadata": {},
   "outputs": [
    {
     "data": {
      "text/plain": [
       "{'_id': ObjectId('63bc3001482304c54972d28b'),\n",
       " 'name': 'Baby Bugs',\n",
       " 'prediction': 'M'}"
      ]
     },
     "execution_count": 22,
     "metadata": {},
     "output_type": "execute_result"
    }
   ],
   "source": [
    "data[0]"
   ]
  },
  {
   "cell_type": "code",
   "execution_count": 19,
   "id": "5a75b78b",
   "metadata": {},
   "outputs": [
    {
     "data": {
      "text/plain": [
       "<pymongo.results.DeleteResult at 0x7f155d832f50>"
      ]
     },
     "execution_count": 19,
     "metadata": {},
     "output_type": "execute_result"
    }
   ],
   "source": [
    "collection.delete_many({})"
   ]
  },
  {
   "cell_type": "code",
   "execution_count": null,
   "id": "b1da1189",
   "metadata": {},
   "outputs": [],
   "source": []
  },
  {
   "cell_type": "code",
   "execution_count": 97,
   "id": "0bea74c2",
   "metadata": {},
   "outputs": [
    {
     "name": "stdout",
     "output_type": "stream",
     "text": [
      "{\"status\":\"error\",\"errorType\":\"unavailable\",\"error\":\"admin APIs disabled\"}"
     ]
    }
   ],
   "source": [
    "!curl -X POST -g 'http://localhost:9090/api/v1/admin/tsdb/delete_series?match[]={__name__=~\".+\"}'"
   ]
  },
  {
   "cell_type": "code",
   "execution_count": null,
   "id": "1eadabf6",
   "metadata": {},
   "outputs": [],
   "source": []
  },
  {
   "cell_type": "code",
   "execution_count": null,
   "id": "468a54ce",
   "metadata": {},
   "outputs": [],
   "source": []
  },
  {
   "cell_type": "code",
   "execution_count": 51,
   "id": "5c55a620",
   "metadata": {},
   "outputs": [],
   "source": [
    "import json\n",
    "import sys\n",
    "import requests\n",
    "\n",
    "from config import cfg\n",
    "import pandas as pd\n",
    "from time import sleep"
   ]
  },
  {
   "cell_type": "code",
   "execution_count": 52,
   "id": "864901bd",
   "metadata": {},
   "outputs": [],
   "source": [
    "with open('./tests/event1.json', 'r', encoding='utf-8') as f_in:\n",
    "    event = json.load(f_in)"
   ]
  },
  {
   "cell_type": "code",
   "execution_count": 29,
   "id": "078c8341",
   "metadata": {},
   "outputs": [
    {
     "name": "stdout",
     "output_type": "stream",
     "text": [
      "<class 'dict'>\n"
     ]
    }
   ],
   "source": [
    "print(type(event))"
   ]
  },
  {
   "cell_type": "code",
   "execution_count": 53,
   "id": "10adbddd",
   "metadata": {},
   "outputs": [],
   "source": [
    "dic = {\"name\":\"Baby Bugs\"}\n",
    "with open(\"./tests/event1.json\", \"w\") as outfile:\n",
    "    json.dump(dic, outfile)"
   ]
  },
  {
   "cell_type": "code",
   "execution_count": 55,
   "id": "eabd6776",
   "metadata": {},
   "outputs": [],
   "source": [
    "url = 'http://127.0.0.1:9696/predict'\n",
    "actual_response = requests.post(url, json=event, timeout=1000).json()"
   ]
  },
  {
   "cell_type": "code",
   "execution_count": 36,
   "id": "1b961a1a",
   "metadata": {},
   "outputs": [
    {
     "data": {
      "text/plain": [
       "{'gender': 'M',\n",
       " 'model_version': 'ec4f26291d42414ba2b8908d8be7a99d',\n",
       " 'name': 'Baby Bugs'}"
      ]
     },
     "execution_count": 36,
     "metadata": {},
     "output_type": "execute_result"
    }
   ],
   "source": [
    "actual_response"
   ]
  },
  {
   "cell_type": "code",
   "execution_count": null,
   "id": "eeb74afd",
   "metadata": {},
   "outputs": [],
   "source": []
  },
  {
   "cell_type": "code",
   "execution_count": null,
   "id": "741341c6",
   "metadata": {},
   "outputs": [],
   "source": []
  }
 ],
 "metadata": {
  "kernelspec": {
   "display_name": "Python 3 (ipykernel)",
   "language": "python",
   "name": "python3"
  },
  "language_info": {
   "codemirror_mode": {
    "name": "ipython",
    "version": 3
   },
   "file_extension": ".py",
   "mimetype": "text/x-python",
   "name": "python",
   "nbconvert_exporter": "python",
   "pygments_lexer": "ipython3",
   "version": "3.10.8"
  }
 },
 "nbformat": 4,
 "nbformat_minor": 5
}
